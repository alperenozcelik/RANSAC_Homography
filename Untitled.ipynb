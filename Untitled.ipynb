{
 "cells": [
  {
   "cell_type": "code",
   "execution_count": 1,
   "id": "9a632f49",
   "metadata": {},
   "outputs": [],
   "source": [
    "import os\n",
    "import numpy as np\n",
    "import cv2\n",
    "import glob\n",
    "\n",
    "def read_images(path):\n",
    "    images_path = glob.glob(path)\n",
    "    images_array = []\n",
    "    for i in images_path:\n",
    "        img = cv2.imread(i)\n",
    "        images_array.append(img)\n",
    "    images_array = np.array(images_array)\n",
    "    return images_array\n",
    "\n",
    "image_array = read_images('images\\*')\n",
    "image1 = image_array[0]\n",
    "detector = cv2.SIFT_create()\n",
    "kp1, des1 = detector.detectAndCompute(image1, None)\n",
    "# -- Draw keypoints\n",
    "img_keypoints = np.empty(image1.shape, dtype=np.uint8)\n",
    "cv2.drawKeypoints(image1, kp1, img_keypoints)\n",
    "# -- Show detected (drawn) keypoints\n",
    "cv2.imshow('SURF Keypoints', img_keypoints)\n",
    "image2 = image_array[1]\n",
    "kp2, des2 = detector.detectAndCompute(image2, None)\n",
    "# -- Draw keypoints\n",
    "img_keypoints = np.empty(image2.shape, dtype=np.uint8)\n",
    "cv2.drawKeypoints(image2, kp1, img_keypoints)\n",
    "# -- Show detected (drawn) keypoints\n",
    "cv2.imshow('SURF Keypoints', img_keypoints)\n"
   ]
  },
  {
   "cell_type": "code",
   "execution_count": null,
   "id": "6eb6a999",
   "metadata": {},
   "outputs": [],
   "source": []
  },
  {
   "cell_type": "code",
   "execution_count": null,
   "id": "d11014d8",
   "metadata": {},
   "outputs": [],
   "source": []
  }
 ],
 "metadata": {
  "kernelspec": {
   "display_name": "Python 3 (ipykernel)",
   "language": "python",
   "name": "python3"
  },
  "language_info": {
   "codemirror_mode": {
    "name": "ipython",
    "version": 3
   },
   "file_extension": ".py",
   "mimetype": "text/x-python",
   "name": "python",
   "nbconvert_exporter": "python",
   "pygments_lexer": "ipython3",
   "version": "3.9.7"
  }
 },
 "nbformat": 4,
 "nbformat_minor": 5
}
